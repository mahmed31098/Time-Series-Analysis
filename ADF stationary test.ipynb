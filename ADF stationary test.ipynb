{
 "cells": [
  {
   "cell_type": "code",
   "execution_count": 25,
   "metadata": {},
   "outputs": [
    {
     "data": {
      "text/html": [
       "<div>\n",
       "<style scoped>\n",
       "    .dataframe tbody tr th:only-of-type {\n",
       "        vertical-align: middle;\n",
       "    }\n",
       "\n",
       "    .dataframe tbody tr th {\n",
       "        vertical-align: top;\n",
       "    }\n",
       "\n",
       "    .dataframe thead th {\n",
       "        text-align: right;\n",
       "    }\n",
       "</style>\n",
       "<table border=\"1\" class=\"dataframe\">\n",
       "  <thead>\n",
       "    <tr style=\"text-align: right;\">\n",
       "      <th></th>\n",
       "      <th>Parameter</th>\n",
       "      <th>Value</th>\n",
       "    </tr>\n",
       "  </thead>\n",
       "  <tbody>\n",
       "    <tr>\n",
       "      <th>0</th>\n",
       "      <td>ADF Test Statistic</td>\n",
       "      <td>-4.876372</td>\n",
       "    </tr>\n",
       "    <tr>\n",
       "      <th>1</th>\n",
       "      <td>p-value</td>\n",
       "      <td>0.000039</td>\n",
       "    </tr>\n",
       "    <tr>\n",
       "      <th>2</th>\n",
       "      <td>Number of Lags Used in ADF Test</td>\n",
       "      <td>0</td>\n",
       "    </tr>\n",
       "    <tr>\n",
       "      <th>3</th>\n",
       "      <td>Number of Observations in Time Series</td>\n",
       "      <td>65</td>\n",
       "    </tr>\n",
       "    <tr>\n",
       "      <th>4</th>\n",
       "      <td>Critical Values (1%, 5%, 10%)</td>\n",
       "      <td>-3.5352168748293127, -2.9071540828402367, -2.5...</td>\n",
       "    </tr>\n",
       "  </tbody>\n",
       "</table>\n",
       "</div>"
      ],
      "text/plain": [
       "                               Parameter  \\\n",
       "0                     ADF Test Statistic   \n",
       "1                                p-value   \n",
       "2        Number of Lags Used in ADF Test   \n",
       "3  Number of Observations in Time Series   \n",
       "4          Critical Values (1%, 5%, 10%)   \n",
       "\n",
       "                                               Value  \n",
       "0                                          -4.876372  \n",
       "1                                           0.000039  \n",
       "2                                                  0  \n",
       "3                                                 65  \n",
       "4  -3.5352168748293127, -2.9071540828402367, -2.5...  "
      ]
     },
     "execution_count": 25,
     "metadata": {},
     "output_type": "execute_result"
    }
   ],
   "source": [
    "import pandas as pd\n",
    "import numpy as np\n",
    "from statsmodels.tsa.stattools import adfuller\n",
    "\n",
    "file_path = 'aircraft.csv'\n",
    "data = pd.read_csv(file_path, delimiter=',')\n",
    "\n",
    "# Convert the time series to numeric, coercing errors to NaN\n",
    "time_series = pd.to_numeric(data['Dept_Aircraft__'], errors='coerce')\n",
    "\n",
    "diff_time_series = time_series.diff().dropna()\n",
    "\n",
    "# Perform the Augmented Dickey-Fuller test with zero lags\n",
    "adf_result = adfuller(diff_time_series, maxlag=0)\n",
    "\n",
    "adf_statistic = adf_result[0]\n",
    "p_value = adf_result[1]\n",
    "num_lags_used = adf_result[2]\n",
    "num_observations = adf_result[3]\n",
    "critical_values = adf_result[4]\n",
    "\n",
    "results_table = pd.DataFrame({\n",
    "    \"Parameter\": [\"ADF Test Statistic\", \"p-value\", \"Number of Lags Used in ADF Test\", \n",
    "                  \"Number of Observations in Time Series\", \"Critical Values (1%, 5%, 10%)\"],\n",
    "    \"Value\": [\n",
    "        adf_statistic,\n",
    "        p_value,\n",
    "        num_lags_used,\n",
    "        num_observations,\n",
    "        f\"{critical_values['1%']}, {critical_values['5%']}, {critical_values['10%']}\"\n",
    "    ]\n",
    "})\n",
    "\n",
    "results_table\n"
   ]
  },
  {
   "cell_type": "code",
   "execution_count": 26,
   "metadata": {},
   "outputs": [
    {
     "data": {
      "text/plain": [
       "(-4.876372046481423,\n",
       " 3.87619243365112e-05,\n",
       " 0,\n",
       " 65,\n",
       " {'1%': -3.5352168748293127,\n",
       "  '5%': -2.9071540828402367,\n",
       "  '10%': -2.5911025443786984},\n",
       " 1456.075964840176)"
      ]
     },
     "execution_count": 26,
     "metadata": {},
     "output_type": "execute_result"
    }
   ],
   "source": [
    "adf_result"
   ]
  },
  {
   "cell_type": "code",
   "execution_count": 30,
   "metadata": {},
   "outputs": [
    {
     "data": {
      "text/html": [
       "<div>\n",
       "<style scoped>\n",
       "    .dataframe tbody tr th:only-of-type {\n",
       "        vertical-align: middle;\n",
       "    }\n",
       "\n",
       "    .dataframe tbody tr th {\n",
       "        vertical-align: top;\n",
       "    }\n",
       "\n",
       "    .dataframe thead th {\n",
       "        text-align: right;\n",
       "    }\n",
       "</style>\n",
       "<table border=\"1\" class=\"dataframe\">\n",
       "  <thead>\n",
       "    <tr style=\"text-align: right;\">\n",
       "      <th></th>\n",
       "      <th>Parameter</th>\n",
       "      <th>Value</th>\n",
       "    </tr>\n",
       "  </thead>\n",
       "  <tbody>\n",
       "    <tr>\n",
       "      <th>0</th>\n",
       "      <td>ADF Test Statistic</td>\n",
       "      <td>-12.593312</td>\n",
       "    </tr>\n",
       "    <tr>\n",
       "      <th>1</th>\n",
       "      <td>p-value</td>\n",
       "      <td>0.0</td>\n",
       "    </tr>\n",
       "    <tr>\n",
       "      <th>2</th>\n",
       "      <td>Number of Lags Used in ADF Test</td>\n",
       "      <td>0</td>\n",
       "    </tr>\n",
       "    <tr>\n",
       "      <th>3</th>\n",
       "      <td>Number of Observations in Time Series</td>\n",
       "      <td>64</td>\n",
       "    </tr>\n",
       "    <tr>\n",
       "      <th>4</th>\n",
       "      <td>Critical Values (1%, 5%, 10%)</td>\n",
       "      <td>-3.53692771987915, -2.907887369384766, -2.5914...</td>\n",
       "    </tr>\n",
       "    <tr>\n",
       "      <th>5</th>\n",
       "      <td>Maximum Eigenvalue Statistic</td>\n",
       "      <td>-186.20527</td>\n",
       "    </tr>\n",
       "  </tbody>\n",
       "</table>\n",
       "</div>"
      ],
      "text/plain": [
       "                               Parameter  \\\n",
       "0                     ADF Test Statistic   \n",
       "1                                p-value   \n",
       "2        Number of Lags Used in ADF Test   \n",
       "3  Number of Observations in Time Series   \n",
       "4          Critical Values (1%, 5%, 10%)   \n",
       "5           Maximum Eigenvalue Statistic   \n",
       "\n",
       "                                               Value  \n",
       "0                                         -12.593312  \n",
       "1                                                0.0  \n",
       "2                                                  0  \n",
       "3                                                 64  \n",
       "4  -3.53692771987915, -2.907887369384766, -2.5914...  \n",
       "5                                         -186.20527  "
      ]
     },
     "execution_count": 30,
     "metadata": {},
     "output_type": "execute_result"
    }
   ],
   "source": [
    "import pandas as pd\n",
    "import numpy as np\n",
    "from statsmodels.tsa.stattools import adfuller\n",
    "\n",
    "file_path = 'log_aircraft.csv'\n",
    "data = pd.read_csv(file_path, delimiter=',')\n",
    "\n",
    "# Convert the time series to numeric, coercing errors to NaN\n",
    "time_series = pd.to_numeric(data['l_Dept_Aircraft__'], errors='coerce')\n",
    "\n",
    "diff_time_series = time_series.diff().dropna()\n",
    "diff_time_series = diff_time_series.diff().dropna()\n",
    "\n",
    "# Perform the Augmented Dickey-Fuller test with zero lags\n",
    "adf_result = adfuller(diff_time_series, maxlag=0)\n",
    "\n",
    "adf_statistic = adf_result[0]\n",
    "p_value = adf_result[1]\n",
    "num_lags_used = adf_result[2]\n",
    "num_observations = adf_result[3]\n",
    "critical_values = adf_result[4]\n",
    "max_eigenvalue_stats=adf_result[5]\n",
    "\n",
    "results_table = pd.DataFrame({\n",
    "    \"Parameter\": [\"ADF Test Statistic\", \"p-value\", \"Number of Lags Used in ADF Test\", \n",
    "                  \"Number of Observations in Time Series\", \"Critical Values (1%, 5%, 10%)\",\"Maximum Eigenvalue Statistic\"],\n",
    "    \"Value\": [\n",
    "        adf_statistic,\n",
    "        p_value,\n",
    "        num_lags_used,\n",
    "        num_observations,\n",
    "        f\"{critical_values['1%']}, {critical_values['5%']}, {critical_values['10%']}\", \n",
    "        max_eigenvalue_stats\n",
    "    ]\n",
    "})\n",
    "\n",
    "results_table\n"
   ]
  },
  {
   "cell_type": "code",
   "execution_count": 31,
   "metadata": {},
   "outputs": [
    {
     "data": {
      "text/plain": [
       "(-12.593311994138686,\n",
       " 1.8013036591076685e-23,\n",
       " 0,\n",
       " 64,\n",
       " {'1%': -3.53692771987915,\n",
       "  '5%': -2.907887369384766,\n",
       "  '10%': -2.591493291015625},\n",
       " -186.20527031069594)"
      ]
     },
     "execution_count": 31,
     "metadata": {},
     "output_type": "execute_result"
    }
   ],
   "source": [
    "adf_result"
   ]
  },
  {
   "cell_type": "code",
   "execution_count": null,
   "metadata": {},
   "outputs": [],
   "source": []
  }
 ],
 "metadata": {
  "kernelspec": {
   "display_name": "Python 3",
   "language": "python",
   "name": "python3"
  },
  "language_info": {
   "codemirror_mode": {
    "name": "ipython",
    "version": 3
   },
   "file_extension": ".py",
   "mimetype": "text/x-python",
   "name": "python",
   "nbconvert_exporter": "python",
   "pygments_lexer": "ipython3",
   "version": "3.11.5"
  }
 },
 "nbformat": 4,
 "nbformat_minor": 2
}
